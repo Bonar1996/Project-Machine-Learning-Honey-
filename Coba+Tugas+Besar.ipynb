{
 "cells": [
  {
   "cell_type": "code",
   "execution_count": 17,
   "metadata": {},
   "outputs": [
    {
     "name": "stdout",
     "output_type": "stream",
     "text": [
      "       numcol  yieldpercol   totalprod      stocks  priceperlb  year\n",
      "0     16000.0           71   1136000.0    159000.0        0.72  1998\n",
      "1     55000.0           60   3300000.0   1485000.0        0.64  1998\n",
      "2     53000.0           65   3445000.0   1688000.0        0.59  1998\n",
      "3    450000.0           83  37350000.0  12326000.0        0.62  1998\n",
      "4     27000.0           72   1944000.0   1594000.0        0.70  1998\n",
      "5    230000.0           98  22540000.0   4508000.0        0.64  1998\n",
      "6     75000.0           56   4200000.0    307000.0        0.69  1998\n",
      "7      8000.0          118    944000.0     66000.0        0.77  1998\n",
      "8    120000.0           50   6000000.0   2220000.0        0.65  1998\n",
      "9      9000.0           71    639000.0    204000.0        1.19  1998\n",
      "10     9000.0           92    828000.0    489000.0        0.85  1998\n",
      "11    50000.0           78   3900000.0   2301000.0        0.70  1998\n",
      "12    16000.0           46    736000.0    390000.0        0.87  1998\n",
      "13     3000.0           50    150000.0     51000.0        1.40  1998\n",
      "14    41000.0          111   4551000.0    865000.0        0.59  1998\n",
      "15    10000.0           26    260000.0    117000.0        0.69  1998\n",
      "16     7000.0           44    308000.0     92000.0        1.10  1998\n",
      "17    80000.0           85   6800000.0   3672000.0        0.66  1998\n",
      "18   140000.0           79  11060000.0   2765000.0        0.65  1998\n",
      "19    18000.0           86   1548000.0    898000.0        0.58  1998\n",
      "20    23000.0           66   1518000.0    455000.0        0.76  1998\n",
      "21   115000.0          122  14030000.0   5472000.0        0.64  1998\n",
      "22    64000.0           70   4480000.0   2240000.0        0.86  1998\n",
      "23    10000.0           46    460000.0    175000.0        1.65  1998\n",
      "24    11000.0           49    539000.0    167000.0        0.76  1998\n",
      "25    14000.0           55    770000.0    470000.0        0.76  1998\n",
      "26    65000.0           80   5200000.0   2444000.0        0.70  1998\n",
      "27     8000.0           59    472000.0    151000.0        1.38  1998\n",
      "28   230000.0          128  29440000.0   8832000.0        0.63  1998\n",
      "29    18000.0           78   1404000.0    702000.0        0.83  1998\n",
      "..        ...          ...         ...         ...         ...   ...\n",
      "596    8000.0           59    472000.0    203000.0        2.54  2012\n",
      "597   37000.0           61   2257000.0   1196000.0        2.17  2012\n",
      "598    6000.0           55    330000.0    125000.0        2.28  2012\n",
      "599    5000.0           51    255000.0     41000.0        3.15  2012\n",
      "600   41000.0           86   3526000.0    141000.0        1.83  2012\n",
      "601    4000.0           34    136000.0     24000.0        2.39  2012\n",
      "602   73000.0           57   4161000.0   1332000.0        2.03  2012\n",
      "603  125000.0           67   8375000.0   1591000.0        1.92  2012\n",
      "604   18000.0          118   2124000.0     64000.0        1.77  2012\n",
      "605    7000.0           53    371000.0    108000.0        2.80  2012\n",
      "606  145000.0           52   7540000.0   2413000.0        1.95  2012\n",
      "607   43000.0           65   2795000.0   1146000.0        1.93  2012\n",
      "608   14000.0           33    462000.0     51000.0        1.97  2012\n",
      "609    5000.0           52    260000.0     99000.0        3.39  2012\n",
      "610   51000.0           51   2601000.0    988000.0        2.23  2012\n",
      "611   13000.0           39    507000.0    106000.0        3.76  2012\n",
      "612  480000.0           69  33120000.0   5962000.0        1.92  2012\n",
      "613   18000.0           60   1080000.0    410000.0        2.46  2012\n",
      "614   60000.0           32   1920000.0    845000.0        2.16  2012\n",
      "615   16000.0           60    960000.0    269000.0        2.57  2012\n",
      "616  260000.0           63  16380000.0   3604000.0        1.95  2012\n",
      "617    6000.0           61    366000.0     59000.0        2.93  2012\n",
      "618   92000.0           52   4784000.0    718000.0        2.00  2012\n",
      "619   25000.0           38    950000.0    209000.0        1.87  2012\n",
      "620    4000.0           60    240000.0     53000.0        2.39  2012\n",
      "621    4000.0           41    164000.0     23000.0        3.77  2012\n",
      "622   62000.0           41   2542000.0   1017000.0        2.38  2012\n",
      "623    6000.0           48    288000.0     95000.0        2.91  2012\n",
      "624   60000.0           69   4140000.0   1863000.0        2.05  2012\n",
      "625   50000.0           51   2550000.0    459000.0        1.87  2012\n",
      "\n",
      "[626 rows x 6 columns]\n",
      "0        818000.0\n",
      "1       2112000.0\n",
      "2       2033000.0\n",
      "3      23157000.0\n",
      "4       1361000.0\n",
      "5      14426000.0\n",
      "6       2898000.0\n",
      "7        727000.0\n",
      "8       3900000.0\n",
      "9        760000.0\n",
      "10       704000.0\n",
      "11      2730000.0\n",
      "12       640000.0\n",
      "13       210000.0\n",
      "14      2685000.0\n",
      "15       179000.0\n",
      "16       339000.0\n",
      "17      4488000.0\n",
      "18      7189000.0\n",
      "19       898000.0\n",
      "20      1154000.0\n",
      "21      8979000.0\n",
      "22      3853000.0\n",
      "23       759000.0\n",
      "24       410000.0\n",
      "25       585000.0\n",
      "26      3640000.0\n",
      "27       651000.0\n",
      "28     18547000.0\n",
      "29      1165000.0\n",
      "          ...    \n",
      "596     1199000.0\n",
      "597     4898000.0\n",
      "598      752000.0\n",
      "599      803000.0\n",
      "600     6453000.0\n",
      "601      325000.0\n",
      "602     8447000.0\n",
      "603    16080000.0\n",
      "604     3759000.0\n",
      "605     1039000.0\n",
      "606    14703000.0\n",
      "607     5394000.0\n",
      "608      910000.0\n",
      "609      881000.0\n",
      "610     5800000.0\n",
      "611     1906000.0\n",
      "612    63590000.0\n",
      "613     2657000.0\n",
      "614     4147000.0\n",
      "615     2467000.0\n",
      "616    31941000.0\n",
      "617     1072000.0\n",
      "618     9568000.0\n",
      "619     1777000.0\n",
      "620      574000.0\n",
      "621      618000.0\n",
      "622     6050000.0\n",
      "623      838000.0\n",
      "624     8487000.0\n",
      "625     4769000.0\n",
      "Name: prodvalue, Length: 626, dtype: float64\n",
      "X_Train shape  (469, 6)\n",
      "Y_Train shape  (469,)\n",
      "X_Test shape  (157, 6)\n",
      "Y_Test shape  (157,)\n",
      "honey shape  (626, 7)\n"
     ]
    }
   ],
   "source": [
    "from sklearn.model_selection import train_test_split\n",
    "import pandas as pd\n",
    "import mglearn\n",
    "\n",
    "honey = pd.read_csv('honeyproduction.csv')\n",
    "\n",
    "y = honey.iloc[:,5]\n",
    "\n",
    "X = honey.iloc[:,0:5]\n",
    "X_year = honey.iloc[:,6]\n",
    "\n",
    "X['year'] = X_year\n",
    "\n",
    "X_train, X_test,y_train,y_test = train_test_split(X,y)\n",
    "\n",
    "print(X)\n",
    "print(y)\n",
    "\n",
    "print(\"X_Train shape \",format(X_train.shape))\n",
    "print(\"Y_Train shape \",format(y_train.shape))\n",
    "\n",
    "print(\"X_Test shape \",format(X_test.shape))\n",
    "print(\"Y_Test shape \",format(y_test.shape))\n",
    "\n",
    "print(\"honey shape \",format(honey.shape))"
   ]
  },
  {
   "cell_type": "code",
   "execution_count": 18,
   "metadata": {},
   "outputs": [
    {
     "name": "stdout",
     "output_type": "stream",
     "text": [
      "Accuracy on training set : 1.000\n",
      "Accuracy on test set : 0.905\n"
     ]
    }
   ],
   "source": [
    "from sklearn.tree import DecisionTreeClassifier\n",
    "from sklearn.tree import DecisionTreeRegressor\n",
    "\n",
    "tree = DecisionTreeRegressor(random_state=0)\n",
    "tree.fit(X_train,y_train)\n",
    "\n",
    "print(\"Accuracy on training set : {:.3f}\".format(tree.score(X_train,y_train)))\n",
    "print(\"Accuracy on test set : {:.3f}\".format(tree.score(X_test,y_test)))"
   ]
  },
  {
   "cell_type": "code",
   "execution_count": 19,
   "metadata": {},
   "outputs": [
    {
     "name": "stdout",
     "output_type": "stream",
     "text": [
      "Accuracy on training set : 0.956\n",
      "Accuracy on test set : 0.895\n"
     ]
    }
   ],
   "source": [
    "tree = DecisionTreeRegressor(max_depth=4,random_state=0)\n",
    "tree.fit(X_train,y_train)\n",
    "\n",
    "print(\"Accuracy on training set : {:.3f}\".format(tree.score(X_train,y_train)))\n",
    "print(\"Accuracy on test set : {:.3f}\".format(tree.score(X_test,y_test)))"
   ]
  },
  {
   "cell_type": "code",
   "execution_count": 7,
   "metadata": {},
   "outputs": [
    {
     "ename": "ValueError",
     "evalue": "Length of feature_names, 626 does not match number of features, 7",
     "output_type": "error",
     "traceback": [
      "\u001b[1;31m---------------------------------------------------------------------------\u001b[0m",
      "\u001b[1;31mValueError\u001b[0m                                Traceback (most recent call last)",
      "\u001b[1;32m<ipython-input-7-6be52c769404>\u001b[0m in \u001b[0;36m<module>\u001b[1;34m()\u001b[0m\n\u001b[0;32m      1\u001b[0m \u001b[1;32mfrom\u001b[0m \u001b[0msklearn\u001b[0m\u001b[1;33m.\u001b[0m\u001b[0mtree\u001b[0m \u001b[1;32mimport\u001b[0m \u001b[0mexport_graphviz\u001b[0m\u001b[1;33m\u001b[0m\u001b[0m\n\u001b[0;32m      2\u001b[0m export_graphviz(tree,out_file=\"tree.dot\",class_names=[\"malignant\",\"benign\"],\n\u001b[1;32m----> 3\u001b[1;33m                feature_names=honey.prodvalue,impurity=False,filled=True)\n\u001b[0m",
      "\u001b[1;32mC:\\ProgramData\\Anaconda3\\lib\\site-packages\\sklearn\\tree\\export.py\u001b[0m in \u001b[0;36mexport_graphviz\u001b[1;34m(decision_tree, out_file, max_depth, feature_names, class_names, label, filled, leaves_parallel, impurity, node_ids, proportion, rotate, rounded, special_characters, precision)\u001b[0m\n\u001b[0;32m    427\u001b[0m                                  \u001b[1;34m\"does not match number of features, %d\"\u001b[0m\u001b[1;33m\u001b[0m\u001b[0m\n\u001b[0;32m    428\u001b[0m                                  % (len(feature_names),\n\u001b[1;32m--> 429\u001b[1;33m                                     decision_tree.n_features_))\n\u001b[0m\u001b[0;32m    430\u001b[0m \u001b[1;33m\u001b[0m\u001b[0m\n\u001b[0;32m    431\u001b[0m         \u001b[1;31m# The depth of each node for plotting with 'leaf' option\u001b[0m\u001b[1;33m\u001b[0m\u001b[1;33m\u001b[0m\u001b[0m\n",
      "\u001b[1;31mValueError\u001b[0m: Length of feature_names, 626 does not match number of features, 7"
     ]
    }
   ],
   "source": [
    "from sklearn.tree import export_graphviz\n",
    "export_graphviz(tree,out_file=\"tree.dot\",class_names=[\"malignant\",\"benign\"],\n",
    "               feature_names=honey.prodvalue,impurity=False,filled=True)"
   ]
  },
  {
   "cell_type": "code",
   "execution_count": 20,
   "metadata": {},
   "outputs": [
    {
     "name": "stdout",
     "output_type": "stream",
     "text": [
      "Feature Importances : \n",
      "[ 0.74308957  0.00879722  0.16143305  0.00085351  0.07513065  0.010696  ]\n"
     ]
    }
   ],
   "source": [
    "print(\"Feature Importances : \\n{}\".format(tree.feature_importances_))"
   ]
  },
  {
   "cell_type": "code",
   "execution_count": 21,
   "metadata": {},
   "outputs": [
    {
     "name": "stdout",
     "output_type": "stream",
     "text": [
      "Feature importances: [ 0.  1.]\n"
     ]
    },
    {
     "data": {
      "image/svg+xml": [
       "<?xml version=\"1.0\" encoding=\"UTF-8\" standalone=\"no\"?>\r\n",
       "<!DOCTYPE svg PUBLIC \"-//W3C//DTD SVG 1.1//EN\"\r\n",
       " \"http://www.w3.org/Graphics/SVG/1.1/DTD/svg11.dtd\">\r\n",
       "<!-- Generated by graphviz version 2.38.0 (20140413.2041)\r\n",
       " -->\r\n",
       "<!-- Title: Tree Pages: 1 -->\r\n",
       "<svg width=\"283pt\" height=\"224pt\"\r\n",
       " viewBox=\"0.00 0.00 283.00 224.00\" xmlns=\"http://www.w3.org/2000/svg\" xmlns:xlink=\"http://www.w3.org/1999/xlink\">\r\n",
       "<g id=\"graph0\" class=\"graph\" transform=\"scale(1 1) rotate(0) translate(4 220)\">\r\n",
       "<title>Tree</title>\r\n",
       "<polygon fill=\"white\" stroke=\"none\" points=\"-4,4 -4,-220 279,-220 279,4 -4,4\"/>\r\n",
       "<!-- 0 -->\r\n",
       "<g id=\"node1\" class=\"node\"><title>0</title>\r\n",
       "<polygon fill=\"none\" stroke=\"black\" points=\"160,-216 56,-216 56,-163 160,-163 160,-216\"/>\r\n",
       "<text text-anchor=\"middle\" x=\"108\" y=\"-200.8\" font-family=\"Times New Roman,serif\" font-size=\"14.00\">X[1] &lt;= &#45;5.814</text>\r\n",
       "<text text-anchor=\"middle\" x=\"108\" y=\"-185.8\" font-family=\"Times New Roman,serif\" font-size=\"14.00\">samples = 100</text>\r\n",
       "<text text-anchor=\"middle\" x=\"108\" y=\"-170.8\" font-family=\"Times New Roman,serif\" font-size=\"14.00\">value = [50, 50]</text>\r\n",
       "</g>\r\n",
       "<!-- 1 -->\r\n",
       "<g id=\"node2\" class=\"node\"><title>1</title>\r\n",
       "<polygon fill=\"#e58139\" stroke=\"black\" points=\"98,-119.5 0,-119.5 0,-81.5 98,-81.5 98,-119.5\"/>\r\n",
       "<text text-anchor=\"middle\" x=\"49\" y=\"-104.3\" font-family=\"Times New Roman,serif\" font-size=\"14.00\">samples = 25</text>\r\n",
       "<text text-anchor=\"middle\" x=\"49\" y=\"-89.3\" font-family=\"Times New Roman,serif\" font-size=\"14.00\">value = [25, 0]</text>\r\n",
       "</g>\r\n",
       "<!-- 0&#45;&gt;1 -->\r\n",
       "<g id=\"edge1\" class=\"edge\"><title>0&#45;&gt;1</title>\r\n",
       "<path fill=\"none\" stroke=\"black\" d=\"M90.6172,-162.868C83.1609,-151.873 74.4545,-139.035 66.9379,-127.951\"/>\r\n",
       "<polygon fill=\"black\" stroke=\"black\" points=\"69.7209,-125.819 61.2114,-119.507 63.9274,-129.747 69.7209,-125.819\"/>\r\n",
       "<text text-anchor=\"middle\" x=\"56.5027\" y=\"-140.359\" font-family=\"Times New Roman,serif\" font-size=\"14.00\">True</text>\r\n",
       "</g>\r\n",
       "<!-- 2 -->\r\n",
       "<g id=\"node3\" class=\"node\"><title>2</title>\r\n",
       "<polygon fill=\"#399de5\" fill-opacity=\"0.498039\" stroke=\"black\" points=\"220,-127 116,-127 116,-74 220,-74 220,-127\"/>\r\n",
       "<text text-anchor=\"middle\" x=\"168\" y=\"-111.8\" font-family=\"Times New Roman,serif\" font-size=\"14.00\">X[1] &lt;= 5.348</text>\r\n",
       "<text text-anchor=\"middle\" x=\"168\" y=\"-96.8\" font-family=\"Times New Roman,serif\" font-size=\"14.00\">samples = 75</text>\r\n",
       "<text text-anchor=\"middle\" x=\"168\" y=\"-81.8\" font-family=\"Times New Roman,serif\" font-size=\"14.00\">value = [25, 50]</text>\r\n",
       "</g>\r\n",
       "<!-- 0&#45;&gt;2 -->\r\n",
       "<g id=\"edge2\" class=\"edge\"><title>0&#45;&gt;2</title>\r\n",
       "<path fill=\"none\" stroke=\"black\" d=\"M125.677,-162.868C131.545,-154.359 138.174,-144.747 144.415,-135.698\"/>\r\n",
       "<polygon fill=\"black\" stroke=\"black\" points=\"147.445,-137.469 150.242,-127.25 141.683,-133.495 147.445,-137.469\"/>\r\n",
       "<text text-anchor=\"middle\" x=\"154.758\" y=\"-148.138\" font-family=\"Times New Roman,serif\" font-size=\"14.00\">False</text>\r\n",
       "</g>\r\n",
       "<!-- 3 -->\r\n",
       "<g id=\"node4\" class=\"node\"><title>3</title>\r\n",
       "<polygon fill=\"#399de5\" stroke=\"black\" points=\"159,-38 61,-38 61,-0 159,-0 159,-38\"/>\r\n",
       "<text text-anchor=\"middle\" x=\"110\" y=\"-22.8\" font-family=\"Times New Roman,serif\" font-size=\"14.00\">samples = 50</text>\r\n",
       "<text text-anchor=\"middle\" x=\"110\" y=\"-7.8\" font-family=\"Times New Roman,serif\" font-size=\"14.00\">value = [0, 50]</text>\r\n",
       "</g>\r\n",
       "<!-- 2&#45;&gt;3 -->\r\n",
       "<g id=\"edge3\" class=\"edge\"><title>2&#45;&gt;3</title>\r\n",
       "<path fill=\"none\" stroke=\"black\" d=\"M149.329,-73.9081C142.905,-65.1022 135.702,-55.2299 129.234,-46.3636\"/>\r\n",
       "<polygon fill=\"black\" stroke=\"black\" points=\"132.028,-44.2546 123.306,-38.2389 126.373,-48.3803 132.028,-44.2546\"/>\r\n",
       "</g>\r\n",
       "<!-- 4 -->\r\n",
       "<g id=\"node5\" class=\"node\"><title>4</title>\r\n",
       "<polygon fill=\"#e58139\" stroke=\"black\" points=\"275,-38 177,-38 177,-0 275,-0 275,-38\"/>\r\n",
       "<text text-anchor=\"middle\" x=\"226\" y=\"-22.8\" font-family=\"Times New Roman,serif\" font-size=\"14.00\">samples = 25</text>\r\n",
       "<text text-anchor=\"middle\" x=\"226\" y=\"-7.8\" font-family=\"Times New Roman,serif\" font-size=\"14.00\">value = [25, 0]</text>\r\n",
       "</g>\r\n",
       "<!-- 2&#45;&gt;4 -->\r\n",
       "<g id=\"edge4\" class=\"edge\"><title>2&#45;&gt;4</title>\r\n",
       "<path fill=\"none\" stroke=\"black\" d=\"M186.671,-73.9081C193.095,-65.1022 200.298,-55.2299 206.766,-46.3636\"/>\r\n",
       "<polygon fill=\"black\" stroke=\"black\" points=\"209.627,-48.3803 212.694,-38.2389 203.972,-44.2546 209.627,-48.3803\"/>\r\n",
       "</g>\r\n",
       "</g>\r\n",
       "</svg>\r\n"
      ],
      "text/plain": [
       "<graphviz.files.Source at 0x26ee3099ac8>"
      ]
     },
     "metadata": {},
     "output_type": "display_data"
    }
   ],
   "source": [
    "tree = mglearn.plots.plot_tree_not_monotone()\n",
    "display(tree)"
   ]
  },
  {
   "cell_type": "code",
   "execution_count": 22,
   "metadata": {},
   "outputs": [
    {
     "name": "stdout",
     "output_type": "stream",
     "text": [
      "Accuracy on training set : 0.985\n",
      "Accuracy on test set : 0.944\n"
     ]
    }
   ],
   "source": [
    "import pandas as pd \n",
    "import numpy as np\n",
    "from sklearn.ensemble import RandomForestClassifier\n",
    "from sklearn.ensemble import RandomForestRegressor\n",
    "\n",
    "\n",
    "forest = RandomForestRegressor(random_state= np.random.seed(0))\n",
    "forest.fit(X_train,y_train)\n",
    "\n",
    "print(\"Accuracy on training set : {:.3f}\".format(forest.score(X_train,y_train)))\n",
    "print(\"Accuracy on test set : {:.3f}\".format(forest.score(X_test,y_test)))"
   ]
  },
  {
   "cell_type": "code",
   "execution_count": 23,
   "metadata": {},
   "outputs": [
    {
     "name": "stdout",
     "output_type": "stream",
     "text": [
      "[  1421000.   4232500.   1332100.   1764600.    562900.   2253400.\n",
      "   1353300.   6699600.    859100.    296100.    455200.   1372600.\n",
      "   9167500.   3559600.  14194700.  14884200.   5527400.    365700.\n",
      "   1471100.   1233300.   7775100.   3344200.   3052000.   1306200.\n",
      "   4305800.  19751500.   1788100.   1094000.   7981800.    426100.\n",
      "   3442100.    919700.   1436200.   1103200.   3142800.    630700.\n",
      "   2242800.   2087000.   5463200.   3389200.   2040100.   1242500.\n",
      "   4765800.   2570900.    877100.   1663200.  16829700.    687600.\n",
      "    769100.  20821600.   2966500.    899500.    455500.    319600.\n",
      "   1851000.    434400.   2087400.    741900.  20202300.   2368500.\n",
      "    446100.   2283100.   1905400.    402300.   1982200.   2667500.\n",
      "   2020400.   2445100.   1081000.    581400.   2654400.   2247400.\n",
      "   4256900.   5051100.    670400.   2510400.   8158000.    632400.\n",
      "   3905400.   2360600.   1819900.    616500.   1285300.    764500.\n",
      "  31236000.    841900.    546700.    465400.    319200.   7166300.\n",
      "    508400.    609000.    545100.  10539900.   2137300.   7416300.\n",
      "    537500.   1122400.    574500.   1881300.    703700.    617200.\n",
      "  10586400.   4927100.   8202200.    675300.   6479300.   1035400.\n",
      "    769400.    589600.   2026100.   1738500.    411500.  20711800.\n",
      "    297300.   5688600.    989000.   4041100.    533000.   5496000.\n",
      "    580800.   2010800.   2262400.    798600.    361900.    733700.\n",
      "   3081400.   1892900.    313500.   3432700.   4621400.   1535600.\n",
      "   1065200.  10447900.   5519600.   2202200.   8243000.    744500.\n",
      "   1286100.   2455500.    554800.    966200.    484500.    550200.\n",
      "    313700.   1237900.   4520800.   2269300.   1474100.   2692200.\n",
      "   9959000.  11569800.   1036100.  27838500.    568700.    492200.\n",
      "   1540100.]\n"
     ]
    }
   ],
   "source": [
    "prediction = forest.predict(X_test)\n",
    "\n",
    "print(prediction)"
   ]
  },
  {
   "cell_type": "code",
   "execution_count": null,
   "metadata": {
    "collapsed": true
   },
   "outputs": [],
   "source": []
  },
  {
   "cell_type": "code",
   "execution_count": null,
   "metadata": {
    "collapsed": true
   },
   "outputs": [],
   "source": []
  },
  {
   "cell_type": "code",
   "execution_count": null,
   "metadata": {
    "collapsed": true
   },
   "outputs": [],
   "source": []
  }
 ],
 "metadata": {
  "kernelspec": {
   "display_name": "Python 3",
   "language": "python",
   "name": "python3"
  },
  "language_info": {
   "codemirror_mode": {
    "name": "ipython",
    "version": 3
   },
   "file_extension": ".py",
   "mimetype": "text/x-python",
   "name": "python",
   "nbconvert_exporter": "python",
   "pygments_lexer": "ipython3",
   "version": "3.6.3"
  }
 },
 "nbformat": 4,
 "nbformat_minor": 2
}
